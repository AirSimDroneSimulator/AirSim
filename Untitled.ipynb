{
 "cells": [
  {
   "cell_type": "code",
   "execution_count": 1,
   "metadata": {},
   "outputs": [],
   "source": [
    "from env.AirSimClient import *\n",
    "from env.EnvHeightControl import *"
   ]
  },
  {
   "cell_type": "code",
   "execution_count": 2,
   "metadata": {},
   "outputs": [
    {
     "name": "stdout",
     "output_type": "stream",
     "text": [
      "Waiting for connection: \n"
     ]
    }
   ],
   "source": [
    "env = EnvHeightControl()"
   ]
  },
  {
   "cell_type": "code",
   "execution_count": 3,
   "metadata": {},
   "outputs": [
    {
     "data": {
      "text/plain": [
       "2"
      ]
     },
     "execution_count": 3,
     "metadata": {},
     "output_type": "execute_result"
    }
   ],
   "source": [
    "AirSimClient.AirSimImageType.DepthPerspective"
   ]
  },
  {
   "cell_type": "code",
   "execution_count": 20,
   "metadata": {},
   "outputs": [
    {
     "name": "stdout",
     "output_type": "stream",
     "text": [
      "255.0 1.0 False\n",
      "255.0 2.0 False\n",
      "255.0 1.0 False\n",
      "255.0 2.0 False\n",
      "255.0 1.0 False\n",
      "255.0 2.0 False\n",
      "255.0 7.0 False\n",
      "255.0 6.0 False\n",
      "255.0 6.0 False\n",
      "255.0 6.0 False\n",
      "255.0 5.0 False\n",
      "255.0 4.0 False\n",
      "255.0 2.0 False\n",
      "255.0 1.0 False\n",
      "255.0 4.0 False\n"
     ]
    }
   ],
   "source": [
    "imgs = []\n",
    "env.reset()\n",
    "for i in range(15):\n",
    "    s,r,d,_ = env.step(0)\n",
    "    responses = env.client.simGetImages([AirSimClient.ImageRequest(0, AirSimClient.AirSimImageType.DepthPerspective, True, False)])\n",
    "    img1d = np.array(responses[0].image_data_float, dtype=np.float)\n",
    "    img2d = np.reshape(img1d, (responses[0].height, responses[0].width))\n",
    "    imgs.append(img2d)\n",
    "    print (np.max(s[0])*255,np.min(s[0])*255,d)"
   ]
  },
  {
   "cell_type": "code",
   "execution_count": 21,
   "metadata": {},
   "outputs": [
    {
     "name": "stdout",
     "output_type": "stream",
     "text": [
      "16464.0 1.337890625\n",
      "16464.0 2.89453125\n",
      "16464.0 1.615234375\n",
      "16448.0 2.669921875\n",
      "16464.0 1.5830078125\n",
      "16464.0 2.583984375\n",
      "16448.0 7.3125\n",
      "16448.0 6.734375\n",
      "16448.0 6.6875\n",
      "16448.0 6.7109375\n",
      "16448.0 5.26171875\n",
      "16448.0 3.78515625\n",
      "16448.0 2.3828125\n",
      "16448.0 0.9814453125\n",
      "16448.0 4.31640625\n"
     ]
    }
   ],
   "source": [
    "for img in imgs:\n",
    "    print (np.max(img),np.min(img))\n",
    "    #print (np.median(img))"
   ]
  },
  {
   "cell_type": "code",
   "execution_count": 18,
   "metadata": {},
   "outputs": [],
   "source": [
    "image = Image.fromarray(imgs[-6])\n",
    "im_final = np.array(image.resize((64, 64)).convert('L'), dtype=np.float) / 255\n",
    "im_final.resize((64, 64, 1))\n",
    "cv2.imshow(\"view\", im_final)\n",
    "key = cv2.waitKey(1) & 0xFF;"
   ]
  },
  {
   "cell_type": "code",
   "execution_count": 19,
   "metadata": {},
   "outputs": [
    {
     "data": {
      "text/plain": [
       "0.01568627450980392"
      ]
     },
     "execution_count": 19,
     "metadata": {},
     "output_type": "execute_result"
    }
   ],
   "source": [
    "im_final.min()"
   ]
  },
  {
   "cell_type": "code",
   "execution_count": 17,
   "metadata": {},
   "outputs": [
    {
     "name": "stdout",
     "output_type": "stream",
     "text": [
      "0.0\n"
     ]
    }
   ],
   "source": [
    "#print (env.getState()[0]*255)\n",
    "print (env.getImg().min()*255)"
   ]
  },
  {
   "cell_type": "code",
   "execution_count": null,
   "metadata": {},
   "outputs": [],
   "source": []
  }
 ],
 "metadata": {
  "kernelspec": {
   "display_name": "Python 3",
   "language": "python",
   "name": "python3"
  },
  "language_info": {
   "codemirror_mode": {
    "name": "ipython",
    "version": 3
   },
   "file_extension": ".py",
   "mimetype": "text/x-python",
   "name": "python",
   "nbconvert_exporter": "python",
   "pygments_lexer": "ipython3",
   "version": "3.6.4"
  }
 },
 "nbformat": 4,
 "nbformat_minor": 2
}

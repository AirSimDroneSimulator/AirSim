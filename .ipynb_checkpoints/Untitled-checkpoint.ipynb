{
 "cells": [
  {
   "cell_type": "code",
   "execution_count": 3,
   "metadata": {},
   "outputs": [],
   "source": [
    "from env.AirSimClient import *\n",
    "from env.EnvHeightControl import *"
   ]
  },
  {
   "cell_type": "code",
   "execution_count": 4,
   "metadata": {},
   "outputs": [
    {
     "name": "stdout",
     "output_type": "stream",
     "text": [
      "Waiting for connection: \n"
     ]
    }
   ],
   "source": [
    "env = EnvHeightControl()"
   ]
  },
  {
   "cell_type": "code",
   "execution_count": 5,
   "metadata": {},
   "outputs": [
    {
     "data": {
      "text/plain": [
       "2"
      ]
     },
     "execution_count": 5,
     "metadata": {},
     "output_type": "execute_result"
    }
   ],
   "source": [
    "AirSimClient.AirSimImageType.DepthPerspective"
   ]
  },
  {
   "cell_type": "code",
   "execution_count": 12,
   "metadata": {},
   "outputs": [
    {
     "name": "stdout",
     "output_type": "stream",
     "text": [
      "255.0 1.0\n",
      "255.0 3.0\n",
      "255.0 1.0\n",
      "255.0 3.0\n",
      "255.0 1.0\n",
      "255.0 2.0\n",
      "255.0 7.0\n",
      "255.0 6.0\n",
      "255.0 6.0\n",
      "255.0 6.0\n",
      "255.0 5.0\n",
      "255.0 4.0\n",
      "255.0 2.0\n",
      "255.0 1.0\n",
      "255.0 4.0\n",
      "255.0 3.0\n",
      "255.0 2.0\n",
      "7.0 1.0\n",
      "1.0 0.0\n",
      "12.0 0.0\n"
     ]
    }
   ],
   "source": [
    "imgs = []\n",
    "env.reset()\n",
    "for i in range(20):\n",
    "    s,r,d,_ = env.step(0)\n",
    "    responses = env.client.simGetImages([AirSimClient.ImageRequest(0, AirSimClient.AirSimImageType.DepthPerspective, True, False)])\n",
    "    img1d = np.array(responses[0].image_data_float, dtype=np.float)\n",
    "    img2d = np.reshape(img1d, (responses[0].height, responses[0].width))\n",
    "    imgs.append(img2d)\n",
    "    print (np.max(s[0])*255,np.min(s[0])*255,d)"
   ]
  },
  {
   "cell_type": "code",
   "execution_count": 14,
   "metadata": {},
   "outputs": [
    {
     "name": "stdout",
     "output_type": "stream",
     "text": [
      "40.53125\n",
      "18.765625\n",
      "19.96875\n",
      "20.515625\n",
      "21.078125\n",
      "23.6875\n",
      "20.90625\n",
      "18.890625\n",
      "17.0\n",
      "15.09375\n",
      "13.2890625\n",
      "11.8984375\n",
      "10.37890625\n",
      "8.5546875\n",
      "6.875\n",
      "5.0546875\n",
      "3.224609375\n",
      "1.58984375\n",
      "0.2301025390625\n",
      "1.244140625\n"
     ]
    }
   ],
   "source": [
    "for img in imgs:\n",
    "    #print (np.max(img),np.min(img))\n",
    "    print (np.median(img))"
   ]
  },
  {
   "cell_type": "code",
   "execution_count": null,
   "metadata": {},
   "outputs": [],
   "source": []
  },
  {
   "cell_type": "code",
   "execution_count": null,
   "metadata": {},
   "outputs": [],
   "source": []
  }
 ],
 "metadata": {
  "kernelspec": {
   "display_name": "Python 3",
   "language": "python",
   "name": "python3"
  },
  "language_info": {
   "codemirror_mode": {
    "name": "ipython",
    "version": 3
   },
   "file_extension": ".py",
   "mimetype": "text/x-python",
   "name": "python",
   "nbconvert_exporter": "python",
   "pygments_lexer": "ipython3",
   "version": "3.6.4"
  }
 },
 "nbformat": 4,
 "nbformat_minor": 2
}

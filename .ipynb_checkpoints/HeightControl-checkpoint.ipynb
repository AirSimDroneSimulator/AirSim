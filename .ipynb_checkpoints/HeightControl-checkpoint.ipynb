{
 "cells": [
  {
   "cell_type": "code",
   "execution_count": 1,
   "metadata": {},
   "outputs": [
    {
     "name": "stderr",
     "output_type": "stream",
     "text": [
      "L:\\Anaconda3\\envs\\PT\\lib\\site-packages\\h5py\\__init__.py:36: FutureWarning: Conversion of the second argument of issubdtype from `float` to `np.floating` is deprecated. In future, it will be treated as `np.float64 == np.dtype(float).type`.\n",
      "  from ._conv import register_converters as _register_converters\n"
     ]
    }
   ],
   "source": [
    "import tensorflow as tf\n",
    "import numpy as np\n",
    "import os\n",
    "from DDPG.DDPG import DDPG_agent\n",
    "from env.EnvHeightControl import EnvHeightControl"
   ]
  },
  {
   "cell_type": "code",
   "execution_count": 2,
   "metadata": {},
   "outputs": [],
   "source": [
    "tf.set_random_seed(22)\n",
    "np.set_printoptions(precision=3, suppress=True)"
   ]
  },
  {
   "cell_type": "code",
   "execution_count": 3,
   "metadata": {},
   "outputs": [],
   "source": [
    "config = tf.ConfigProto(allow_soft_placement=True)\n",
    "config.gpu_options.allow_growth = True\n",
    "sess = tf.Session(config=config)\n"
   ]
  },
  {
   "cell_type": "code",
   "execution_count": 4,
   "metadata": {},
   "outputs": [
    {
     "name": "stdout",
     "output_type": "stream",
     "text": [
      "Waiting for connection: \n"
     ]
    }
   ],
   "source": [
    "\n",
    "env = EnvHeightControl()\n",
    "state_shape = 1\n",
    "action_bound = 1\n",
    "action_dim = 1\n",
    "agent = DDPG_agent(sess, state_shape, action_bound, action_dim)\n",
    "sess.run(tf.global_variables_initializer())\n",
    "saver = tf.train.Saver()\n"
   ]
  },
  {
   "cell_type": "code",
   "execution_count": 8,
   "metadata": {},
   "outputs": [
    {
     "ename": "TypeError",
     "evalue": "load() missing 1 required positional argument: 'dir'",
     "output_type": "error",
     "traceback": [
      "\u001b[1;31m---------------------------------------------------------------------------\u001b[0m",
      "\u001b[1;31mTypeError\u001b[0m                                 Traceback (most recent call last)",
      "\u001b[1;32m<ipython-input-8-0a983d99e0ef>\u001b[0m in \u001b[0;36m<module>\u001b[1;34m()\u001b[0m\n\u001b[1;32m----> 1\u001b[1;33m \u001b[0magent\u001b[0m\u001b[1;33m.\u001b[0m\u001b[0mload\u001b[0m\u001b[1;33m(\u001b[0m\u001b[1;34m\"temp/premodel/\"\u001b[0m\u001b[1;33m)\u001b[0m\u001b[1;33m\u001b[0m\u001b[0m\n\u001b[0m",
      "\u001b[1;31mTypeError\u001b[0m: load() missing 1 required positional argument: 'dir'"
     ]
    }
   ],
   "source": [
    "agent.load(saver,\"temp/premodel/\")\n"
   ]
  },
  {
   "cell_type": "code",
   "execution_count": 6,
   "metadata": {
    "scrolled": true
   },
   "outputs": [
    {
     "name": "stdout",
     "output_type": "stream",
     "text": [
      "episode 0 finish, average reward: -0.04513, total success: 0 result: collision step: 23\n",
      "episode 1 finish, average reward: 0.01335, total success: 0 result: collision step: 7\n",
      "episode 2 finish, average reward: 0.01185, total success: 0 result: collision step: 25\n",
      "episode 3 finish, average reward: -0.04657, total success: 0 result: too high step: 83\n",
      "episode 4 finish, average reward: -0.04901, total success: 0 result: collision step: 22\n",
      "episode 5 finish, average reward: -0.09999, total success: 0 result: collision step: 21\n",
      "episode 6 finish, average reward: -0.06386, total success: 0 result: collision step: 21\n",
      "episode 7 finish, average reward: -0.07036, total success: 0 result: collision step: 19\n",
      "episode 8 finish, average reward: -0.01970, total success: 0 result: too high step: 31\n",
      "episode 9 finish, average reward: -0.06577, total success: 0 result: too high step: 28\n",
      "aim height: -10      abso height: -9.41   reward: 0.02356.     steps: 16           \r"
     ]
    },
    {
     "name": "stderr",
     "output_type": "stream",
     "text": [
      "ERROR:root:Internal Python error in the inspect module.\n",
      "Below is the traceback from this internal error.\n",
      "\n"
     ]
    },
    {
     "name": "stdout",
     "output_type": "stream",
     "text": [
      "Traceback (most recent call last):\n",
      "  File \"L:\\Anaconda3\\envs\\PT\\lib\\site-packages\\IPython\\core\\interactiveshell.py\", line 2910, in run_code\n",
      "    exec(code_obj, self.user_global_ns, self.user_ns)\n",
      "  File \"<ipython-input-6-a0e00c46d133>\", line 7, in <module>\n",
      "    next_state, reward, done, info = env.step(action)\n",
      "  File \"L:\\googledrive\\2018-Semester1\\COMP90055 Computing Project\\Git\\env\\EnvHeightControl.py\", line 48, in step\n",
      "    EnvBase.moveByDist(self, [dx, dy, dz])\n",
      "  File \"L:\\googledrive\\2018-Semester1\\COMP90055 Computing Project\\Git\\env\\EnvBase.py\", line 40, in moveByDist\n",
      "    time.sleep(self.timestep)\n",
      "KeyboardInterrupt\n",
      "\n",
      "During handling of the above exception, another exception occurred:\n",
      "\n",
      "Traceback (most recent call last):\n",
      "  File \"L:\\Anaconda3\\envs\\PT\\lib\\site-packages\\IPython\\core\\interactiveshell.py\", line 1828, in showtraceback\n",
      "    stb = value._render_traceback_()\n",
      "AttributeError: 'KeyboardInterrupt' object has no attribute '_render_traceback_'\n",
      "\n",
      "During handling of the above exception, another exception occurred:\n",
      "\n",
      "Traceback (most recent call last):\n",
      "  File \"L:\\Anaconda3\\envs\\PT\\lib\\site-packages\\IPython\\core\\ultratb.py\", line 1090, in get_records\n",
      "    return _fixed_getinnerframes(etb, number_of_lines_of_context, tb_offset)\n",
      "  File \"L:\\Anaconda3\\envs\\PT\\lib\\site-packages\\IPython\\core\\ultratb.py\", line 311, in wrapped\n",
      "    return f(*args, **kwargs)\n",
      "  File \"L:\\Anaconda3\\envs\\PT\\lib\\site-packages\\IPython\\core\\ultratb.py\", line 345, in _fixed_getinnerframes\n",
      "    records = fix_frame_records_filenames(inspect.getinnerframes(etb, context))\n",
      "  File \"L:\\Anaconda3\\envs\\PT\\lib\\inspect.py\", line 1483, in getinnerframes\n",
      "    frameinfo = (tb.tb_frame,) + getframeinfo(tb, context)\n",
      "  File \"L:\\Anaconda3\\envs\\PT\\lib\\inspect.py\", line 1441, in getframeinfo\n",
      "    filename = getsourcefile(frame) or getfile(frame)\n",
      "  File \"L:\\Anaconda3\\envs\\PT\\lib\\inspect.py\", line 696, in getsourcefile\n",
      "    if getattr(getmodule(object, filename), '__loader__', None) is not None:\n",
      "  File \"L:\\Anaconda3\\envs\\PT\\lib\\inspect.py\", line 739, in getmodule\n",
      "    f = getabsfile(module)\n",
      "  File \"L:\\Anaconda3\\envs\\PT\\lib\\inspect.py\", line 708, in getabsfile\n",
      "    _filename = getsourcefile(object) or getfile(object)\n",
      "  File \"L:\\Anaconda3\\envs\\PT\\lib\\inspect.py\", line 693, in getsourcefile\n",
      "    if os.path.exists(filename):\n",
      "  File \"L:\\Anaconda3\\envs\\PT\\lib\\genericpath.py\", line 19, in exists\n",
      "    os.stat(path)\n",
      "KeyboardInterrupt\n"
     ]
    },
    {
     "ename": "KeyboardInterrupt",
     "evalue": "",
     "output_type": "error",
     "traceback": [
      "\u001b[1;31m---------------------------------------------------------------------------\u001b[0m"
     ]
    }
   ],
   "source": [
    "\n",
    "episode_count, success, episode_reward, step_count = 0, 0, 0, 0\n",
    "state = env.reset()\n",
    "while True:\n",
    "\n",
    "    action = agent.act(state)\n",
    "    next_state, reward, done, info = env.step(action)\n",
    "    reward = (-abs(next_state[1]*50+5) +5) / 50 * 2\n",
    "    reward = reward[0]\n",
    "    episode_reward += reward\n",
    "    agent.observe(state, action, reward, next_state, done)\n",
    "    agent.train(times = 2)\n",
    "    state = next_state\n",
    "    step_count += 1\n",
    "    print (\"aim height: {}\".format(env.aim_height).ljust(20,\" \"),\"abso height: {:.2f}\".format(state[1][0]*50).ljust(20,\" \"), \"reward: {:.5f}.\".format(reward).ljust(20,\" \"),\"steps: {}\".format(step_count).ljust(20,\" \"),end = \"\\r\")\n",
    "\n",
    "    if done:\n",
    "\n",
    "        if info == \"success\":\n",
    "            success += 1\n",
    "        print (\" \"*80,end = \"\\r\")\n",
    "        print(\"episode {} finish, average reward: {:.5f}, total success: {} result: {} step: {}\".format(episode_count, episode_reward/step_count, success, info, step_count).ljust(80,\" \"))\n",
    "        episode_reward = 0\n",
    "        step_count = 0\n",
    "        episode_count += 1\n",
    "        #if episode_count % 100 == 0:\n",
    "        #    agent.save(saver,\"temp/DDPG_4_29_s1/\")\n",
    "        if episode_count >= 100:\n",
    "            break\n",
    "        state = env.reset()\n"
   ]
  },
  {
   "cell_type": "code",
   "execution_count": null,
   "metadata": {},
   "outputs": [],
   "source": [
    "from DDPG.OUNoise import OrnsteinUhlenbeckActionNoise\n",
    "from DDPG.ReplayMemory import ReplayMemory\n",
    "#agent.replay_memory.load(\"temp/DDPG_4_29_s1/\")\n",
    "#agent.num_action_taken = agent.train_after+1\n",
    "#agent.train(times = 2000)"
   ]
  },
  {
   "cell_type": "code",
   "execution_count": null,
   "metadata": {},
   "outputs": [],
   "source": [
    "agent.replay_memory.save(\"temp/DDPG_4_29_s1/\")\n",
    "agent.replay_memory = ReplayMemory(agent.memory_size)\n",
    "agent.action_noise = OrnsteinUhlenbeckActionNoise(np.zeros(agent.action_dim))\n",
    "agent.num_action_taken = 0"
   ]
  },
  {
   "cell_type": "code",
   "execution_count": null,
   "metadata": {
    "scrolled": true
   },
   "outputs": [],
   "source": [
    "episode_count, success, episode_reward, step_count = 0, 0, 0, 0\n",
    "state = env.reset()\n",
    "while True:\n",
    "\n",
    "    action = agent.act(state)\n",
    "    next_state, reward, done, info = env.step(action)\n",
    "    #print(reward)\n",
    "    episode_reward += reward\n",
    "    agent.observe(state, action, reward, next_state, done)\n",
    "    agent.train(times = 2)\n",
    "    state = next_state\n",
    "    step_count += 1\n",
    "    print (\"aim height: {}\".format(env.aim_height).ljust(20,\" \"),\"abso height: {:.2f}\".format(state[1][0]*50).ljust(20,\" \"), \"reward: {:.5f}.\".format(reward).ljust(20,\" \"),\"steps: {}\".format(step_count).ljust(20,\" \"),end = \"\\r\")\n",
    "\n",
    "    if done:\n",
    "\n",
    "        if info == \"success\":\n",
    "            success += 1\n",
    "        print (\" \"*80,end = \"\\r\")\n",
    "        print(\"episode {} finish, average reward: {:.5f}, total success: {} result: {} step: {}\".format(episode_count, episode_reward/step_count, success, info, step_count).ljust(80,\" \"))\n",
    "        episode_reward = 0\n",
    "        step_count = 0\n",
    "        episode_count += 1\n",
    "        #if episode_count % 100 == 0:\n",
    "        #    agent.save(saver,\"temp/DDPG_4_29_s2/\")\n",
    "        if episode_count >= 400:\n",
    "            break\n",
    "        state = env.reset()\n"
   ]
  },
  {
   "cell_type": "code",
   "execution_count": null,
   "metadata": {},
   "outputs": [],
   "source": [
    "episode_count, success, episode_reward, step_count = 0, 0, 0, 0\n",
    "state = env.reset()\n",
    "while True:\n",
    "\n",
    "    action = agent.act(state)\n",
    "    next_state, reward, done, info = env.step(action)\n",
    "    #print(reward)\n",
    "    episode_reward += reward\n",
    "    agent.observe(state, action, reward, next_state, done)\n",
    "    agent.train(times = 2)\n",
    "    state = next_state\n",
    "    step_count += 1\n",
    "    print (\"aim height: {}\".format(env.aim_height).ljust(20,\" \"),\"abso height: {:.2f}\".format(state[1][0]*50).ljust(20,\" \"), \"reward: {:.5f}.\".format(reward).ljust(20,\" \"),\"steps: {}\".format(step_count).ljust(20,\" \"),end = \"\\r\")\n",
    "\n",
    "    if done:\n",
    "\n",
    "        if info == \"success\":\n",
    "            success += 1\n",
    "        print (\" \"*80,end = \"\\r\")\n",
    "        print(\"episode {} finish, average reward: {:.5f}, total success: {} result: {} step: {}\".format(episode_count, episode_reward/step_count, success, info, step_count).ljust(80,\" \"))\n",
    "        episode_reward = 0\n",
    "        step_count = 0\n",
    "        episode_count += 1\n",
    "        #if episode_count % 100 == 0:\n",
    "        #    agent.save(saver,\"temp/DDPG_4_29_s3/\")\n",
    "        if episode_count >= 40000:\n",
    "            break\n",
    "        state = env.reset()"
   ]
  },
  {
   "cell_type": "code",
   "execution_count": null,
   "metadata": {},
   "outputs": [],
   "source": [
    "agent.actor.act(s)"
   ]
  },
  {
   "cell_type": "code",
   "execution_count": null,
   "metadata": {},
   "outputs": [],
   "source": [
    "s[1] = 8"
   ]
  },
  {
   "cell_type": "code",
   "execution_count": null,
   "metadata": {},
   "outputs": [],
   "source": []
  }
 ],
 "metadata": {
  "kernelspec": {
   "display_name": "Python 3",
   "language": "python",
   "name": "python3"
  },
  "language_info": {
   "codemirror_mode": {
    "name": "ipython",
    "version": 3
   },
   "file_extension": ".py",
   "mimetype": "text/x-python",
   "name": "python",
   "nbconvert_exporter": "python",
   "pygments_lexer": "ipython3",
   "version": "3.6.4"
  }
 },
 "nbformat": 4,
 "nbformat_minor": 2
}
